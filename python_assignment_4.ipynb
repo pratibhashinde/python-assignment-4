{
  "nbformat": 4,
  "nbformat_minor": 0,
  "metadata": {
    "colab": {
      "name": "python-assignment-4.ipynb",
      "provenance": []
    },
    "kernelspec": {
      "name": "python3",
      "display_name": "Python 3"
    }
  },
  "cells": [
    {
      "cell_type": "markdown",
      "metadata": {
        "id": "L3jTEYYKJey6"
      },
      "source": [
        "1.1 Write a Python Program(with class concepts) to find the area of the triangle using the below\n",
        "formula.\n",
        "area = (s*(s-a)*(s-b)*(s-c)) ** 0.5\n",
        "Function to take the length of the sides of triangle from user should be defined in the parent\n",
        "class and function to calculate the area should be defined in subclass."
      ]
    },
    {
      "cell_type": "code",
      "metadata": {
        "id": "pHc5McZ9tSyo"
      },
      "source": [
        "#create class triangle\n",
        "class triangle:\n",
        "  def __init__(self):\n",
        "    side=['a','b','c']\n",
        "    self.sides=side\n",
        "  def triangle_side(self):\n",
        "    self.side_t=[input('enter side of triangle '+i+':') for i in self.sides]"
      ],
      "execution_count": 68,
      "outputs": []
    },
    {
      "cell_type": "code",
      "metadata": {
        "id": "v4h_QvmsZATf"
      },
      "source": [
        "#creating subclass triangle_area\n",
        "class triangle_area(triangle):\n",
        "  def __init__(self):\n",
        "    triangle.__init__(self)\n",
        "  def area(self):\n",
        "    a=float(self.side_t[0])\n",
        "    b=float(self.side_t[1])\n",
        "    c=float(self.side_t[2])\n",
        "    s=(a+b+c)*.5\n",
        "    area=(s*(s-a)*(s-b)*(s-c)) ** 0.5\n",
        "    return area"
      ],
      "execution_count": 69,
      "outputs": []
    },
    {
      "cell_type": "code",
      "metadata": {
        "id": "UdAbOZ8svj7j",
        "outputId": "59ed36a0-ef76-42e3-a911-7e07295e427e",
        "colab": {
          "base_uri": "https://localhost:8080/",
          "height": 72
        }
      },
      "source": [
        "#calling object of sub class triangle_area\n",
        "obj=triangle_area()\n",
        "obj.triangle_side()"
      ],
      "execution_count": 70,
      "outputs": [
        {
          "output_type": "stream",
          "text": [
            "enter side of triangle a:3\n",
            "enter side of triangle b:4\n",
            "enter side of triangle c:5\n"
          ],
          "name": "stdout"
        }
      ]
    },
    {
      "cell_type": "code",
      "metadata": {
        "id": "8VQm0Hr9vqIl",
        "outputId": "f800bfeb-53e2-486f-814f-01cc1b057879",
        "colab": {
          "base_uri": "https://localhost:8080/",
          "height": 35
        }
      },
      "source": [
        "obj.area()"
      ],
      "execution_count": 71,
      "outputs": [
        {
          "output_type": "execute_result",
          "data": {
            "text/plain": [
              "6.0"
            ]
          },
          "metadata": {
            "tags": []
          },
          "execution_count": 71
        }
      ]
    },
    {
      "cell_type": "markdown",
      "metadata": {
        "id": "sWj_xHB1xI_I"
      },
      "source": [
        "Write a function filter_long_words() that takes a list of words and an integer n and returns\n",
        "the list of words that are longer than n."
      ]
    },
    {
      "cell_type": "code",
      "metadata": {
        "id": "AkNd6-Q5waqI"
      },
      "source": [
        "def filter_long_words(words_list,n):\n",
        "  x=[]\n",
        "  for i in words_list:\n",
        "    if len(i)>n:\n",
        "      x.append(i)\n",
        "  return x"
      ],
      "execution_count": 72,
      "outputs": []
    },
    {
      "cell_type": "code",
      "metadata": {
        "id": "f7Yf6aNdxS0_",
        "outputId": "5b1ee3db-7dd5-4065-b55f-c9963c1ebb2e",
        "colab": {
          "base_uri": "https://localhost:8080/",
          "height": 35
        }
      },
      "source": [
        "filter_long_words(['hello','hi','byee'],3)"
      ],
      "execution_count": 73,
      "outputs": [
        {
          "output_type": "execute_result",
          "data": {
            "text/plain": [
              "['hello', 'byee']"
            ]
          },
          "metadata": {
            "tags": []
          },
          "execution_count": 73
        }
      ]
    },
    {
      "cell_type": "markdown",
      "metadata": {
        "id": "7Mx69M1oyk69"
      },
      "source": [
        "Write a Python program using function concept that maps list of words into a list of integers\n",
        "representing the lengths of the corresponding words.\n",
        "Hint: If a list [ ab,cde,erty] is passed on to the python function output should come as [2,3,4]\n",
        "Here 2,3 and 4 are the lengths of the words in the list."
      ]
    },
    {
      "cell_type": "code",
      "metadata": {
        "id": "s5oX1qb9xXIy"
      },
      "source": [
        "def mapping(word_list):\n",
        "  x=[]\n",
        "  for i in word_list:\n",
        "    x.append(len(i))\n",
        "  return x"
      ],
      "execution_count": 74,
      "outputs": []
    },
    {
      "cell_type": "code",
      "metadata": {
        "id": "wrEIJX17zDe7",
        "outputId": "558e5ae3-8055-4b75-cb94-fdeb0e6dddb6",
        "colab": {
          "base_uri": "https://localhost:8080/",
          "height": 35
        }
      },
      "source": [
        "mapping(['hello','hi','good'])"
      ],
      "execution_count": 75,
      "outputs": [
        {
          "output_type": "execute_result",
          "data": {
            "text/plain": [
              "[5, 2, 4]"
            ]
          },
          "metadata": {
            "tags": []
          },
          "execution_count": 75
        }
      ]
    },
    {
      "cell_type": "markdown",
      "metadata": {
        "id": "Fi_khexG2vqF"
      },
      "source": [
        "Write a Python function which takes a character (i.e. a string of length 1) and returns True if\n",
        "it is a vowel, False otherwise."
      ]
    },
    {
      "cell_type": "code",
      "metadata": {
        "id": "DdEtsCFFzJ4a"
      },
      "source": [
        "def fun(a):\n",
        "  vowel=['a','e','i','o','u']\n",
        "  if a.lower() in vowel:\n",
        "    return True\n",
        "  else:\n",
        "    return False"
      ],
      "execution_count": 76,
      "outputs": []
    },
    {
      "cell_type": "code",
      "metadata": {
        "id": "zVnJP8Q_2_bc",
        "outputId": "7aad4aa1-3993-4fbd-86d2-deb5acd006c5",
        "colab": {
          "base_uri": "https://localhost:8080/",
          "height": 35
        }
      },
      "source": [
        "fun('A')"
      ],
      "execution_count": 77,
      "outputs": [
        {
          "output_type": "execute_result",
          "data": {
            "text/plain": [
              "True"
            ]
          },
          "metadata": {
            "tags": []
          },
          "execution_count": 77
        }
      ]
    },
    {
      "cell_type": "code",
      "metadata": {
        "id": "ZYO7LSS73E94"
      },
      "source": [
        ""
      ],
      "execution_count": null,
      "outputs": []
    }
  ]
}